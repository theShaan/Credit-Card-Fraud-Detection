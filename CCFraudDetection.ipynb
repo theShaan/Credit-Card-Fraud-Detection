{
 "cells": [
  {
   "cell_type": "code",
   "execution_count": 3,
   "metadata": {
    "collapsed": true
   },
   "outputs": [],
   "source": [
    "# Credit Card Fraud Detection\n",
    "# Dataset Link: https://www.kaggle.com/dalpozz/creditcardfraud\n",
    "# Dataset Size: 68 MB\n",
    "\n",
    "import os, sys\n",
    "import pandas as pd\n",
    "import numpy as np"
   ]
  },
  {
   "cell_type": "code",
   "execution_count": 6,
   "metadata": {},
   "outputs": [
    {
     "name": "stdout",
     "output_type": "stream",
     "text": [
      "# of samples: 284807\n",
      "# of features: 31\n"
     ]
    }
   ],
   "source": [
    "csv_data = \"creditcard.csv\"\n",
    "dataframe = pd.read_csv(csv_data)\n",
    "print(\"# of samples: {}\\n# of features: {}\".format(dataframe.shape[0],dataframe.shape[1]))"
   ]
  },
  {
   "cell_type": "code",
   "execution_count": null,
   "metadata": {
    "collapsed": true
   },
   "outputs": [],
   "source": []
  }
 ],
 "metadata": {
  "kernelspec": {
   "display_name": "Python 3",
   "language": "python",
   "name": "python3"
  },
  "language_info": {
   "codemirror_mode": {
    "name": "ipython",
    "version": 3
   },
   "file_extension": ".py",
   "mimetype": "text/x-python",
   "name": "python",
   "nbconvert_exporter": "python",
   "pygments_lexer": "ipython3",
   "version": "3.5.4"
  }
 },
 "nbformat": 4,
 "nbformat_minor": 2
}
