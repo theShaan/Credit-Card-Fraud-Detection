{
 "cells": [
  {
   "cell_type": "code",
   "execution_count": 3,
   "metadata": {
    "collapsed": true
   },
   "outputs": [],
   "source": [
    "# Credit Card Fraud Detection\n",
    "# Dataset Link: https://www.kaggle.com/dalpozz/creditcardfraud\n",
    "# Dataset Size: 68 MB\n",
    "\n",
    "import os, sys\n",
    "import pandas as pd\n",
    "import numpy as np"
   ]
  },
  {
   "cell_type": "code",
   "execution_count": 20,
   "metadata": {},
   "outputs": [],
   "source": [
    "def load_data(csv_data):\n",
    "    # Read the csv nd extract all the required info\n",
    "    dataframe = pd.read_csv(csv_data)\n",
    "    num_pos = dataframe[dataframe['Class']==1].shape[0]\n",
    "    num_neg = dataframe.shape[0]-num_pos\n",
    "\n",
    "    # Print the statics of Data\n",
    "    print(\"Data statitics:\")\n",
    "    print(\". # of samples        : {}\".format(dataframe.shape[0]))\n",
    "    print(\". # of features       : {}\".format(dataframe.shape[1]-1))\n",
    "    print(\". # of +ve/-ve samples: {}/{}\".format(num_pos,num_neg))\n",
    "\n",
    "    message = (\"*MESSAGE* As you can see, out dataset is highly skewed: \"\n",
    "               \"only {0:.3f}% of data is +ve\".format(num_pos*100/(num_pos+num_neg)))\n",
    "    print(message)\n",
    "\n",
    "    return dataframe"
   ]
  },
  {
   "cell_type": "code",
   "execution_count": 22,
   "metadata": {},
   "outputs": [
    {
     "name": "stdout",
     "output_type": "stream",
     "text": [
      "Data statitics:\n",
      ". # of samples        : 284807\n",
      ". # of features       : 30\n",
      ". # of +ve/-ve samples: 492/284315\n",
      "*MESSAGE* As you can see, out dataset is highly skewed: only 0.173% of data is +ve\n"
     ]
    }
   ],
   "source": [
    "csv_data = \"creditcard.csv\"\n",
    "data = load_data(csv_data)"
   ]
  },
  {
   "cell_type": "code",
   "execution_count": 26,
   "metadata": {
    "collapsed": true
   },
   "outputs": [],
   "source": [
    "# data is pandas dataframe\n",
    "# Normal split, no stratified split\n",
    "# Bound to fail due to skewness of data\n",
    "def get_tr_tst(data,ratio):\n",
    "    temp = data.as_matrix()\n",
    "    indices = np.random.permutation(data.shape[0])\n",
    "    split_index = int(ratio*indices.size)\n",
    "    tst_data = temp[indices[0:split_index],0:-1]\n",
    "    tst_lb = temp[indices[0:split_index],-1]\n",
    "    tr_data = temp[indices[split_index:],0:-1]\n",
    "    tr_lb = temp[indices[split_index:],-1]\n",
    "    print(\"Statitics:\")\n",
    "    print(\". # of train/test samples: {}/{}\".format(tr_lb.size,tst_lb.size))\n",
    "    return tst_data,tst_lb,tr_data,tr_lb"
   ]
  },
  {
   "cell_type": "code",
   "execution_count": 30,
   "metadata": {},
   "outputs": [
    {
     "name": "stdout",
     "output_type": "stream",
     "text": [
      "Statitics:\n",
      ". # of train/test samples: 256327/28480\n"
     ]
    }
   ],
   "source": [
    "tst_feat,tst_lb,tr_feat,tr_lb = get_tr_tst(data,0.1)"
   ]
  },
  {
   "cell_type": "code",
   "execution_count": 31,
   "metadata": {
    "collapsed": true
   },
   "outputs": [],
   "source": [
    "from sklearn.svm import SVC\n",
    "from sklearn.model_selection import StratifiedShuffleSplit\n",
    "from sklearn.model_selection import GridSearchCV"
   ]
  },
  {
   "cell_type": "code",
   "execution_count": null,
   "metadata": {
    "collapsed": true
   },
   "outputs": [],
   "source": []
  }
 ],
 "metadata": {
  "kernelspec": {
   "display_name": "Python 3",
   "language": "python",
   "name": "python3"
  },
  "language_info": {
   "codemirror_mode": {
    "name": "ipython",
    "version": 3
   },
   "file_extension": ".py",
   "mimetype": "text/x-python",
   "name": "python",
   "nbconvert_exporter": "python",
   "pygments_lexer": "ipython3",
   "version": "3.5.4"
  }
 },
 "nbformat": 4,
 "nbformat_minor": 2
}
