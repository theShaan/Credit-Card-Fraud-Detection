{
 "cells": [
  {
   "cell_type": "code",
   "execution_count": 1,
   "metadata": {
    "collapsed": true
   },
   "outputs": [],
   "source": [
    "# Credit Card Fraud Detection\n",
    "# Dataset Link: https://www.kaggle.com/dalpozz/creditcardfraud\n",
    "# Dataset Size: 68 MB\n",
    "\n",
    "import os, sys\n",
    "import pandas as pd\n",
    "import numpy as np\n",
    "from sklearn.svm import SVC\n",
    "from sklearn.model_selection import StratifiedShuffleSplit\n",
    "from sklearn.model_selection import GridSearchCV\n",
    "from sklearn.preprocessing import StandardScaler\n",
    "from sklearn.metrics import precision_recall_fscore_support\n",
    "import pylab\n",
    "import matplotlib.pyplot as plt\n",
    "\n",
    "pylab.rcParams['figure.figsize'] = (10, 6)"
   ]
  },
  {
   "cell_type": "code",
   "execution_count": 2,
   "metadata": {},
   "outputs": [
    {
     "name": "stdout",
     "output_type": "stream",
     "text": [
      "*MESSAGE* Random seed: 24\n"
     ]
    }
   ],
   "source": [
    "# Fix seed for reproducibility \n",
    "seed = 24\n",
    "np.random.seed(seed)\n",
    "print(\"*MESSAGE* Random seed: {}\".format(seed))"
   ]
  },
  {
   "cell_type": "code",
   "execution_count": 3,
   "metadata": {
    "collapsed": true
   },
   "outputs": [],
   "source": [
    "# Load data from csv into pandas dataframe\n",
    "def load_data(csv_data,ratio=0.1):\n",
    "    # Read the csv nd extract all the required info\n",
    "    dataframe = pd.read_csv(csv_data)\n",
    "    num_pos = dataframe[dataframe['Class']==1].shape[0]\n",
    "    num_neg = dataframe.shape[0]-num_pos\n",
    "\n",
    "    # Print the statics of Data\n",
    "    print(\"Data statitics:\")\n",
    "    print(\". # of samples        : {}\".format(dataframe.shape[0]))\n",
    "    print(\". # of features       : {}\".format(dataframe.shape[1]-1))\n",
    "    print(\". # of +ve/-ve samples: {}/{}\".format(num_pos,num_neg))\n",
    "\n",
    "    message = (\"*MESSAGE* As you can see, out dataset is highly skewed: \"\n",
    "               \"only {0:.3f}% of data is +ve\".format(num_pos*100/(num_pos+num_neg)))\n",
    "    print(message)\n",
    "\n",
    "    return dataframe"
   ]
  },
  {
   "cell_type": "code",
   "execution_count": 4,
   "metadata": {},
   "outputs": [
    {
     "name": "stdout",
     "output_type": "stream",
     "text": [
      "Data statitics:\n",
      ". # of samples        : 284807\n",
      ". # of features       : 30\n",
      ". # of +ve/-ve samples: 492/284315\n",
      "*MESSAGE* As you can see, out dataset is highly skewed: only 0.173% of data is +ve\n"
     ]
    },
    {
     "data": {
      "text/html": [
       "<div>\n",
       "<style>\n",
       "    .dataframe thead tr:only-child th {\n",
       "        text-align: right;\n",
       "    }\n",
       "\n",
       "    .dataframe thead th {\n",
       "        text-align: left;\n",
       "    }\n",
       "\n",
       "    .dataframe tbody tr th {\n",
       "        vertical-align: top;\n",
       "    }\n",
       "</style>\n",
       "<table border=\"1\" class=\"dataframe\">\n",
       "  <thead>\n",
       "    <tr style=\"text-align: right;\">\n",
       "      <th></th>\n",
       "      <th>Time</th>\n",
       "      <th>V1</th>\n",
       "      <th>V2</th>\n",
       "      <th>V3</th>\n",
       "      <th>V4</th>\n",
       "      <th>V5</th>\n",
       "      <th>V6</th>\n",
       "      <th>V7</th>\n",
       "      <th>V8</th>\n",
       "      <th>V9</th>\n",
       "      <th>...</th>\n",
       "      <th>V21</th>\n",
       "      <th>V22</th>\n",
       "      <th>V23</th>\n",
       "      <th>V24</th>\n",
       "      <th>V25</th>\n",
       "      <th>V26</th>\n",
       "      <th>V27</th>\n",
       "      <th>V28</th>\n",
       "      <th>Amount</th>\n",
       "      <th>Class</th>\n",
       "    </tr>\n",
       "  </thead>\n",
       "  <tbody>\n",
       "    <tr>\n",
       "      <th>0</th>\n",
       "      <td>0.0</td>\n",
       "      <td>-1.359807</td>\n",
       "      <td>-0.072781</td>\n",
       "      <td>2.536347</td>\n",
       "      <td>1.378155</td>\n",
       "      <td>-0.338321</td>\n",
       "      <td>0.462388</td>\n",
       "      <td>0.239599</td>\n",
       "      <td>0.098698</td>\n",
       "      <td>0.363787</td>\n",
       "      <td>...</td>\n",
       "      <td>-0.018307</td>\n",
       "      <td>0.277838</td>\n",
       "      <td>-0.110474</td>\n",
       "      <td>0.066928</td>\n",
       "      <td>0.128539</td>\n",
       "      <td>-0.189115</td>\n",
       "      <td>0.133558</td>\n",
       "      <td>-0.021053</td>\n",
       "      <td>149.62</td>\n",
       "      <td>0</td>\n",
       "    </tr>\n",
       "    <tr>\n",
       "      <th>1</th>\n",
       "      <td>0.0</td>\n",
       "      <td>1.191857</td>\n",
       "      <td>0.266151</td>\n",
       "      <td>0.166480</td>\n",
       "      <td>0.448154</td>\n",
       "      <td>0.060018</td>\n",
       "      <td>-0.082361</td>\n",
       "      <td>-0.078803</td>\n",
       "      <td>0.085102</td>\n",
       "      <td>-0.255425</td>\n",
       "      <td>...</td>\n",
       "      <td>-0.225775</td>\n",
       "      <td>-0.638672</td>\n",
       "      <td>0.101288</td>\n",
       "      <td>-0.339846</td>\n",
       "      <td>0.167170</td>\n",
       "      <td>0.125895</td>\n",
       "      <td>-0.008983</td>\n",
       "      <td>0.014724</td>\n",
       "      <td>2.69</td>\n",
       "      <td>0</td>\n",
       "    </tr>\n",
       "    <tr>\n",
       "      <th>2</th>\n",
       "      <td>1.0</td>\n",
       "      <td>-1.358354</td>\n",
       "      <td>-1.340163</td>\n",
       "      <td>1.773209</td>\n",
       "      <td>0.379780</td>\n",
       "      <td>-0.503198</td>\n",
       "      <td>1.800499</td>\n",
       "      <td>0.791461</td>\n",
       "      <td>0.247676</td>\n",
       "      <td>-1.514654</td>\n",
       "      <td>...</td>\n",
       "      <td>0.247998</td>\n",
       "      <td>0.771679</td>\n",
       "      <td>0.909412</td>\n",
       "      <td>-0.689281</td>\n",
       "      <td>-0.327642</td>\n",
       "      <td>-0.139097</td>\n",
       "      <td>-0.055353</td>\n",
       "      <td>-0.059752</td>\n",
       "      <td>378.66</td>\n",
       "      <td>0</td>\n",
       "    </tr>\n",
       "    <tr>\n",
       "      <th>3</th>\n",
       "      <td>1.0</td>\n",
       "      <td>-0.966272</td>\n",
       "      <td>-0.185226</td>\n",
       "      <td>1.792993</td>\n",
       "      <td>-0.863291</td>\n",
       "      <td>-0.010309</td>\n",
       "      <td>1.247203</td>\n",
       "      <td>0.237609</td>\n",
       "      <td>0.377436</td>\n",
       "      <td>-1.387024</td>\n",
       "      <td>...</td>\n",
       "      <td>-0.108300</td>\n",
       "      <td>0.005274</td>\n",
       "      <td>-0.190321</td>\n",
       "      <td>-1.175575</td>\n",
       "      <td>0.647376</td>\n",
       "      <td>-0.221929</td>\n",
       "      <td>0.062723</td>\n",
       "      <td>0.061458</td>\n",
       "      <td>123.50</td>\n",
       "      <td>0</td>\n",
       "    </tr>\n",
       "    <tr>\n",
       "      <th>4</th>\n",
       "      <td>2.0</td>\n",
       "      <td>-1.158233</td>\n",
       "      <td>0.877737</td>\n",
       "      <td>1.548718</td>\n",
       "      <td>0.403034</td>\n",
       "      <td>-0.407193</td>\n",
       "      <td>0.095921</td>\n",
       "      <td>0.592941</td>\n",
       "      <td>-0.270533</td>\n",
       "      <td>0.817739</td>\n",
       "      <td>...</td>\n",
       "      <td>-0.009431</td>\n",
       "      <td>0.798278</td>\n",
       "      <td>-0.137458</td>\n",
       "      <td>0.141267</td>\n",
       "      <td>-0.206010</td>\n",
       "      <td>0.502292</td>\n",
       "      <td>0.219422</td>\n",
       "      <td>0.215153</td>\n",
       "      <td>69.99</td>\n",
       "      <td>0</td>\n",
       "    </tr>\n",
       "  </tbody>\n",
       "</table>\n",
       "<p>5 rows × 31 columns</p>\n",
       "</div>"
      ],
      "text/plain": [
       "   Time        V1        V2        V3        V4        V5        V6        V7  \\\n",
       "0   0.0 -1.359807 -0.072781  2.536347  1.378155 -0.338321  0.462388  0.239599   \n",
       "1   0.0  1.191857  0.266151  0.166480  0.448154  0.060018 -0.082361 -0.078803   \n",
       "2   1.0 -1.358354 -1.340163  1.773209  0.379780 -0.503198  1.800499  0.791461   \n",
       "3   1.0 -0.966272 -0.185226  1.792993 -0.863291 -0.010309  1.247203  0.237609   \n",
       "4   2.0 -1.158233  0.877737  1.548718  0.403034 -0.407193  0.095921  0.592941   \n",
       "\n",
       "         V8        V9  ...         V21       V22       V23       V24  \\\n",
       "0  0.098698  0.363787  ...   -0.018307  0.277838 -0.110474  0.066928   \n",
       "1  0.085102 -0.255425  ...   -0.225775 -0.638672  0.101288 -0.339846   \n",
       "2  0.247676 -1.514654  ...    0.247998  0.771679  0.909412 -0.689281   \n",
       "3  0.377436 -1.387024  ...   -0.108300  0.005274 -0.190321 -1.175575   \n",
       "4 -0.270533  0.817739  ...   -0.009431  0.798278 -0.137458  0.141267   \n",
       "\n",
       "        V25       V26       V27       V28  Amount  Class  \n",
       "0  0.128539 -0.189115  0.133558 -0.021053  149.62      0  \n",
       "1  0.167170  0.125895 -0.008983  0.014724    2.69      0  \n",
       "2 -0.327642 -0.139097 -0.055353 -0.059752  378.66      0  \n",
       "3  0.647376 -0.221929  0.062723  0.061458  123.50      0  \n",
       "4 -0.206010  0.502292  0.219422  0.215153   69.99      0  \n",
       "\n",
       "[5 rows x 31 columns]"
      ]
     },
     "execution_count": 4,
     "metadata": {},
     "output_type": "execute_result"
    }
   ],
   "source": [
    "csv_data = \"creditcard.csv\"\n",
    "data = load_data(csv_data)\n",
    "data.head()"
   ]
  },
  {
   "cell_type": "code",
   "execution_count": 5,
   "metadata": {
    "collapsed": true
   },
   "outputs": [],
   "source": [
    "\"\"\"\n",
    "Data set has a column 'Amount', which is not normalised\n",
    "So, we normalise the 'Amount' column and drop the original 'Amount' Column\n",
    "Further, since the data is highly skewed, we undersample it \n",
    "\"\"\"\n",
    "def preprocess_FollowUnderSampling(data,ratio=4):\n",
    "    print(\"*MESSAGE* Ratio of underSampling is {}:1\".format(ratio))\n",
    "    data['NormalisedAmount'] = StandardScaler().fit_transform(data['Amount'].values.reshape(-1, 1))\n",
    "    data = data.drop(['Time','Amount'],axis=1)\n",
    "\n",
    "    # Undersampling Steps\n",
    "    fraud_count = len(data[data.Class==1])\n",
    "    fraud_indices = data[data.Class==1].index\n",
    "    notFraud_indices = data[data.Class==0].index\n",
    "    rand_notFraud_indices = notFraud_indices[np.random.permutation(len(notFraud_indices))]\n",
    "    rand_notFraud_indices_undersampled = rand_notFraud_indices[0:ratio*fraud_count]\n",
    "    undersampled_indices = np.concatenate([fraud_indices,rand_notFraud_indices_undersampled])\n",
    "    undersampled_data = data.iloc[undersampled_indices,:]\n",
    "    X_undersampled = undersampled_data.iloc[:,undersampled_data.columns!='Class']\n",
    "    Y_undersampled = undersampled_data.iloc[:,undersampled_data.columns=='Class']\n",
    "    return X_undersampled,Y_undersampled"
   ]
  },
  {
   "cell_type": "code",
   "execution_count": 6,
   "metadata": {
    "collapsed": true
   },
   "outputs": [],
   "source": [
    "\"\"\"\n",
    "X,Y are pandas dataframes\n",
    "\"\"\"\n",
    "def get_tr_tst(X,Y,ratio=0.10):\n",
    "    X = X.as_matrix()\n",
    "    Y = Y.as_matrix()\n",
    "    indices = np.random.permutation(X.shape[0])\n",
    "    split_index = int(ratio*indices.size)\n",
    "    tst_data = X[indices[0:split_index],:]\n",
    "    tst_lb = Y[indices[0:split_index]]\n",
    "    tst_lb.shape = (tst_lb.size,)\n",
    "    tr_data = X[indices[split_index:],:]\n",
    "    tr_lb = Y[indices[split_index:]]\n",
    "    tr_lb.shape = (tr_lb.size,)\n",
    "    print(\"Statitics:\")\n",
    "    print(\". # of train/test samples: {}/{}\".format(tr_lb.size,tst_lb.size))\n",
    "    return tr_data,tr_lb,tst_data,tst_lb"
   ]
  },
  {
   "cell_type": "code",
   "execution_count": 7,
   "metadata": {},
   "outputs": [
    {
     "name": "stdout",
     "output_type": "stream",
     "text": [
      "*MESSAGE* Ratio of underSampling is 1:1\n",
      "Statitics:\n",
      ". # of train/test samples: 886/98\n",
      "*MESSAGE* Ratio of underSampling is 2:1\n",
      "Statitics:\n",
      ". # of train/test samples: 1329/147\n",
      "*MESSAGE* Ratio of underSampling is 3:1\n",
      "Statitics:\n",
      ". # of train/test samples: 1772/196\n",
      "*MESSAGE* Ratio of underSampling is 4:1\n",
      "Statitics:\n",
      ". # of train/test samples: 2214/246\n",
      "*MESSAGE* Ratio of underSampling is 5:1\n",
      "Statitics:\n",
      ". # of train/test samples: 2657/295\n"
     ]
    },
    {
     "data": {
      "image/png": "[encoded data removed]",
      "text/plain": [
       "<matplotlib.figure.Figure at 0x113c95588>"
      ]
     },
     "metadata": {},
     "output_type": "display_data"
    }
   ],
   "source": [
    "\"\"\"\n",
    "We don't know, how much undersampling of non-fraud transactions will be good enough\n",
    "May be a ratio of 1:1 .. but too less data\n",
    "May be a ration of 10:1 .. but too much of unbalance\n",
    "Let's plot the accuracy, precision, recall and f-score for various ratio values\n",
    "A ratio 4 looks good, we have taken 4 for all following SVM runs\n",
    "\"\"\"\n",
    "def plot_underSamplingInfo(data):\n",
    "    mySVM = SVC(C=1,kernel='poly',class_weight='balanced')\n",
    "    max_ratio = 5\n",
    "    accuracy = [0]*max_ratio\n",
    "    precision = [0]*max_ratio\n",
    "    recall = [0]*max_ratio\n",
    "    fscore = [0]*max_ratio\n",
    "    for i in range(max_ratio):\n",
    "        X,Y = preprocess_FollowUnderSampling(data,i+1)\n",
    "        tr_data,tr_lb,tst_data,tst_lb = get_tr_tst(X,Y)\n",
    "        pred = mySVM.fit(tr_data,tr_lb).predict(tst_data)\n",
    "        count = 0\n",
    "        for j in range(pred.size):\n",
    "            if pred[j]==tst_lb[j]: count += 1\n",
    "        accuracy[i] = count/pred.size\n",
    "        precision[i],recall[i],fscore[i] = precision_recall_fscore_support(tst_lb,pred,average='binary')[0:3]\n",
    "    x = [i+1 for i in range(max_ratio)]\n",
    "    plt.plot(x,accuracy,label='Acuracy')\n",
    "    plt.plot(x,precision,label='Precision')\n",
    "    plt.plot(x,recall,label='Recall')\n",
    "    plt.plot(x,fscore,label='F-Score')\n",
    "    plt.xlabel('Non-Fraud:Fraud')\n",
    "    plt.legend(loc=\"lower left\")\n",
    "    plt.show()\n",
    "plot_underSamplingInfo(data)"
   ]
  },
  {
   "cell_type": "code",
   "execution_count": 8,
   "metadata": {},
   "outputs": [
    {
     "name": "stdout",
     "output_type": "stream",
     "text": [
      "*MESSAGE* Ratio of underSampling is 4:1\n",
      "Statitics:\n",
      ". # of train/test samples: 2214/246\n"
     ]
    }
   ],
   "source": [
    "X,Y = preprocess_FollowUnderSampling(data)\n",
    "tr_data,tr_lb,tst_data,tst_lb = get_tr_tst(X,Y)"
   ]
  },
  {
   "cell_type": "code",
   "execution_count": 9,
   "metadata": {},
   "outputs": [
    {
     "name": "stdout",
     "output_type": "stream",
     "text": [
      "*MESSAGE* kernel = rbf\n",
      "*MESSAGE* Best C: 1, Score: 0.9630630630630631\n",
      "*MESSAGE* Accuracy: 0.9715447154471545\n",
      "*MESSAGE* Precision: 0.9215686274509803, Recall: 0.94, F-score: 0.9306930693069307\n",
      "*MESSAGE* kernel = poly\n",
      "*MESSAGE* Best C: 0.1, Score: 0.9630630630630631\n",
      "*MESSAGE* Accuracy: 0.975609756097561\n",
      "*MESSAGE* Precision: 0.9782608695652174, Recall: 0.9, F-score: 0.9375\n",
      "*MESSAGE* kernel = sigmoid\n",
      "*MESSAGE* Best C: 0.01, Score: 0.8405405405405405\n",
      "*MESSAGE* Accuracy: 0.8943089430894309\n",
      "*MESSAGE* Precision: 0.6875, Recall: 0.88, F-score: 0.7719298245614036\n"
     ]
    }
   ],
   "source": [
    "\"\"\"\n",
    "SVM has some hyper-parameters and is still considered one of the best classifiers\n",
    "The other thing to look for is what kernel performs best and it totally depends on data\n",
    "Our options are 'rbf', 'poly', and 'sigmoid'\n",
    "We have skipped 'linear' because due to skewness of data set\n",
    "'linear' seemed to trivial\n",
    "Hyper-parameter Optimization: The below function deals with finding the best hyper-parameters\n",
    "for a given kernel\n",
    "We have used grid-search. Other option is bayesian but we couldn't find any known implementation\n",
    "\"\"\"\n",
    "def svm(tr_data,tr_lb,tst_data,tst_lb,kernel='rbf'):\n",
    "    print(\"*MESSAGE* kernel = {}\".format(kernel))\n",
    "    mySVM = SVC(kernel=kernel,class_weight='balanced')\n",
    "    C_range = [0.01,0.1,1,10,100,1000,10000]\n",
    "    param_grid = dict(C=C_range)\n",
    "    #param_grid\n",
    "    cv = StratifiedShuffleSplit(n_splits=5, test_size=0.1)\n",
    "    clf = GridSearchCV(mySVM, param_grid=param_grid, cv=cv, n_jobs=-1)\n",
    "    clf.fit(tr_data,tr_lb)\n",
    "    message = (\"*MESSAGE* Best C: {}, Score: {}\".format(clf.best_params_['C'],clf.best_score_))\n",
    "    print(message)\n",
    "    pred = clf.predict(tst_data)\n",
    "    count = 0\n",
    "    for i in range(pred.size):\n",
    "        if pred[i]==tst_lb[i]: count += 1\n",
    "    print(\"*MESSAGE* Accuracy: {}\".format(count/tst_lb.size))\n",
    "    precision,recall,fscore = precision_recall_fscore_support(tst_lb,pred,average='binary')[0:3]\n",
    "    print(\"*MESSAGE* Precision: {}, Recall: {}, F-score: {}\".format(precision,recall,fscore))\n",
    "\n",
    "svm(tr_data,tr_lb,tst_data,tst_lb)\n",
    "svm(tr_data,tr_lb,tst_data,tst_lb,'poly')\n",
    "svm(tr_data,tr_lb,tst_data,tst_lb,'sigmoid')"
   ]
  },
  {
   "cell_type": "code",
   "execution_count": 10,
   "metadata": {
    "collapsed": true
   },
   "outputs": [],
   "source": [
    "# Here we can see that rbf kernel performs best (in terms of recall) with C = 1\n",
    "# Now we will use this to build out final SVM based model, plot \n",
    "# confusion matrix, plot ROC and calculate AUC\n",
    "# Code taken from here: https://goo.gl/DcMhma "
   ]
  },
  {
   "cell_type": "code",
   "execution_count": 11,
   "metadata": {},
   "outputs": [
    {
     "data": {
      "image/png": "[encoded data removed]",
      "text/plain": [
       "<matplotlib.figure.Figure at 0x10656ee10>"
      ]
     },
     "metadata": {},
     "output_type": "display_data"
    }
   ],
   "source": [
    "from sklearn.metrics import roc_curve, auc\n",
    "from sklearn.model_selection import StratifiedKFold\n",
    "from scipy import interp\n",
    "\n",
    "cv = StratifiedKFold(n_splits=5)\n",
    "classifier = SVC(C=1, kernel='rbf', probability=True)\n",
    "tprs,aucs = [],[]\n",
    "mean_fpr = np.linspace(0, 1, 100)\n",
    "i = 0\n",
    "X_,Y_ = X.as_matrix(),Y.as_matrix()\n",
    "Y_.shape = (Y_.size,)\n",
    "for train, test in cv.split(X_, Y_):\n",
    "    probas_ = classifier.fit(X_[train], Y_[train]).predict_proba(X_[test])\n",
    "    # Compute ROC curve and area the curve\n",
    "    fpr, tpr, thresholds = roc_curve(Y_[test], probas_[:, 1])\n",
    "    tprs.append(interp(mean_fpr, fpr, tpr))\n",
    "    tprs[-1][0] = 0.0\n",
    "    roc_auc = auc(fpr, tpr)\n",
    "    aucs.append(roc_auc)\n",
    "    plt.plot(fpr, tpr, lw=1, alpha=0.3,label='ROC fold %d (AUC = %0.2f)' % (i, roc_auc))\n",
    "    i += 1\n",
    "\n",
    "plt.plot([0, 1], [0, 1], linestyle='--', lw=2, color='r',label='Luck', alpha=.8)\n",
    "mean_tpr = np.mean(tprs, axis=0)\n",
    "mean_tpr[-1] = 1.0\n",
    "mean_auc = auc(mean_fpr, mean_tpr)\n",
    "std_auc = np.std(aucs)\n",
    "plt.plot(mean_fpr, mean_tpr, color='b',\n",
    "         label=r'Mean ROC (AUC = %0.2f $\\pm$ %0.2f)' % (mean_auc, std_auc),\n",
    "         lw=2, alpha=.8)\n",
    "\n",
    "std_tpr = np.std(tprs, axis=0)\n",
    "tprs_upper = np.minimum(mean_tpr + std_tpr, 1)\n",
    "tprs_lower = np.maximum(mean_tpr - std_tpr, 0)\n",
    "plt.fill_between(mean_fpr, tprs_lower, tprs_upper, color='grey', alpha=.2,\n",
    "                 label=r'$\\pm$ 1 std. dev.')\n",
    "\n",
    "plt.xlim([-0.05, 1.05])\n",
    "plt.ylim([-0.05, 1.05])\n",
    "plt.xlabel('False Positive Rate')\n",
    "plt.ylabel('True Positive Rate')\n",
    "plt.title('Receiver operating characteristic example using 5-fold cross-validation')\n",
    "plt.legend(loc=\"lower right\")\n",
    "plt.show()"
   ]
  },
  {
   "cell_type": "code",
   "execution_count": null,
   "metadata": {
    "collapsed": true
   },
   "outputs": [],
   "source": []
  }
 ],
 "metadata": {
  "kernelspec": {
   "display_name": "Python 3",
   "language": "python",
   "name": "python3"
  },
  "language_info": {
   "codemirror_mode": {
    "name": "ipython",
    "version": 3
   },
   "file_extension": ".py",
   "mimetype": "text/x-python",
   "name": "python",
   "nbconvert_exporter": "python",
   "pygments_lexer": "ipython3",
   "version": "3.5.4"
  }
 },
 "nbformat": 4,
 "nbformat_minor": 2
}
